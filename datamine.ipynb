{
 "cells": [
  {
   "cell_type": "code",
   "execution_count": 1,
   "id": "f20a0b4a-5334-41c1-aa91-42614761d3f6",
   "metadata": {},
   "outputs": [
    {
     "name": "stdout",
     "output_type": "stream",
     "text": [
      "Collecting pydriller\n",
      "  Downloading PyDriller-2.7-py3-none-any.whl.metadata (1.3 kB)\n",
      "Collecting gitpython (from pydriller)\n",
      "  Downloading GitPython-3.1.43-py3-none-any.whl.metadata (13 kB)\n",
      "Collecting pytz (from pydriller)\n",
      "  Downloading pytz-2024.2-py2.py3-none-any.whl.metadata (22 kB)\n",
      "Collecting types-pytz (from pydriller)\n",
      "  Downloading types_pytz-2024.2.0.20241003-py3-none-any.whl.metadata (1.6 kB)\n",
      "Collecting lizard (from pydriller)\n",
      "  Downloading lizard-1.17.13-py2.py3-none-any.whl.metadata (15 kB)\n",
      "Collecting gitdb<5,>=4.0.1 (from gitpython->pydriller)\n",
      "  Downloading gitdb-4.0.11-py3-none-any.whl.metadata (1.2 kB)\n",
      "Requirement already satisfied: pygments in c:\\users\\ricar\\appdata\\local\\programs\\python\\python313\\lib\\site-packages (from lizard->pydriller) (2.18.0)\n",
      "Collecting smmap<6,>=3.0.1 (from gitdb<5,>=4.0.1->gitpython->pydriller)\n",
      "  Downloading smmap-5.0.1-py3-none-any.whl.metadata (4.3 kB)\n",
      "Downloading PyDriller-2.7-py3-none-any.whl (36 kB)\n",
      "Downloading GitPython-3.1.43-py3-none-any.whl (207 kB)\n",
      "Downloading lizard-1.17.13-py2.py3-none-any.whl (68 kB)\n",
      "Downloading pytz-2024.2-py2.py3-none-any.whl (508 kB)\n",
      "Downloading types_pytz-2024.2.0.20241003-py3-none-any.whl (5.2 kB)\n",
      "Downloading gitdb-4.0.11-py3-none-any.whl (62 kB)\n",
      "Downloading smmap-5.0.1-py3-none-any.whl (24 kB)\n",
      "Installing collected packages: pytz, types-pytz, smmap, lizard, gitdb, gitpython, pydriller\n",
      "Successfully installed gitdb-4.0.11 gitpython-3.1.43 lizard-1.17.13 pydriller-2.7 pytz-2024.2 smmap-5.0.1 types-pytz-2024.2.0.20241003\n"
     ]
    }
   ],
   "source": [
    "!pip install pydriller"
   ]
  },
  {
   "cell_type": "code",
   "execution_count": null,
   "id": "b114f5f9-1102-4a33-8263-c5f180a38298",
   "metadata": {},
   "outputs": [],
   "source": []
  }
 ],
 "metadata": {
  "kernelspec": {
   "display_name": "Python 3 (ipykernel)",
   "language": "python",
   "name": "python3"
  },
  "language_info": {
   "codemirror_mode": {
    "name": "ipython",
    "version": 3
   },
   "file_extension": ".py",
   "mimetype": "text/x-python",
   "name": "python",
   "nbconvert_exporter": "python",
   "pygments_lexer": "ipython3",
   "version": "3.13.1"
  }
 },
 "nbformat": 4,
 "nbformat_minor": 5
}
